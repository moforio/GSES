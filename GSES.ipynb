{
 "cells": [
  {
   "cell_type": "code",
   "execution_count": null,
   "metadata": {},
   "outputs": [],
   "source": [
    "import copy\n",
    "import glob\n",
    "from imagecorruptions import corrupt, get_corruption_names\n",
    "from itertools import repeat\n",
    "import matplotlib.pyplot as plt\n",
    "import numpy as np\n",
    "import pandas as pd\n",
    "import os\n",
    "from pathlib import Path\n",
    "from PIL import Image\n",
    "import random\n",
    "from scipy import stats\n",
    "from sklearn.neighbors import KernelDensity as KDE\n",
    "from pathos.multiprocessing import ProcessingPool as Pool\n",
    "import shutil\n",
    "from tqdm import tqdm\n",
    "import time\n",
    "import warnings"
   ]
  },
  {
   "cell_type": "code",
   "execution_count": null,
   "metadata": {},
   "outputs": [],
   "source": [
    "def mutator_group(group, I, I_dist_samples_array):\n",
    "    I_prime = I.copy()\n",
    "\n",
    "    i, j = group[0]  # Use the first point in the group as representative\n",
    "\n",
    "    # Error distribution\n",
    "    d_c1 = I_dist_samples_array[:, i, j, 0]\n",
    "    d_c2 = I_dist_samples_array[:, i, j, 1]\n",
    "    d_c3 = I_dist_samples_array[:, i, j, 2]\n",
    "\n",
    "    # Fit distribution\n",
    "    kde_model_c1 = KDE(bandwidth=1).fit(d_c1.reshape(-1,1))\n",
    "    kde_model_c2 = KDE(bandwidth=1).fit(d_c2.reshape(-1,1))\n",
    "    kde_model_c3 = KDE(bandwidth=1).fit(d_c3.reshape(-1,1))\n",
    "\n",
    "    for i, j in group:\n",
    "        # Generate sample from kde model\n",
    "        distortion_sample_c1 = kde_model_c1.sample(1)\n",
    "        distortion_sample_c2 = kde_model_c2.sample(1)\n",
    "        distortion_sample_c3 = kde_model_c3.sample(1)\n",
    "\n",
    "        # Save sample in location\n",
    "        I_prime[i,j,0] = distortion_sample_c1\n",
    "        I_prime[i,j,1] = distortion_sample_c2\n",
    "        I_prime[i,j,2] = distortion_sample_c3\n",
    "        \n",
    "    return I_prime"
   ]
  },
  {
   "cell_type": "code",
   "execution_count": null,
   "metadata": {},
   "outputs": [],
   "source": [
    "def group_indices_by_variance(num_mut_pts_i, num_mut_pts_j, I, I_dist_samples_array, threshold=5):\n",
    "    variance_map = {}\n",
    "    for i, j in zip(num_mut_pts_i, num_mut_pts_j):\n",
    "        variance_c1 = np.var(I_dist_samples_array[:, i, j, 0])\n",
    "        variance_c2 = np.var(I_dist_samples_array[:, i, j, 1])\n",
    "        variance_c3 = np.var(I_dist_samples_array[:, i, j, 2])\n",
    "        avg_variance = (variance_c1 + variance_c2 + variance_c3) / 3\n",
    "        bucket = int(avg_variance / threshold)\n",
    "        if bucket not in variance_map:\n",
    "            variance_map[bucket] = []\n",
    "        variance_map[bucket].append((i, j))        \n",
    "    return list(variance_map.values())"
   ]
  },
  {
   "cell_type": "code",
   "execution_count": null,
   "metadata": {},
   "outputs": [],
   "source": [
    "# Main function\n",
    "def main(train_sample_lst,start,step,dist_samples,tau):   \n",
    "    for corruption in ['gaussian_noise']:       \n",
    "        for severity in [2]:\n",
    "            sav_path = 'path_to_save_distorted_samples' + '/' + corruption + '/'\n",
    "            Path(sav_path).mkdir(parents=True, exist_ok=True)\n",
    "\n",
    "            for img_name in tqdm(train_sample_lst[start:start+step]):\n",
    "                I = np.asarray(Image.open(img_name))\n",
    "                I_dist_samples_lst = []\n",
    "                \n",
    "                for dist_sample in range(dist_samples):\n",
    "                    corrupted = corrupt(I, corruption_name=corruption, severity=severity+1)\n",
    "                    I_dist_samples_lst.append(corrupted)\n",
    "                del corrupted    \n",
    "                I_dist_samples_array = np.array(I_dist_samples_lst)\n",
    "                I_c0 = I[:,:,0]\n",
    "                num_mut = int(tau*(I_c0.size))               \n",
    "                indices = np.array(np.where(I_c0>=0))\n",
    "                df = pd.DataFrame(indices).T\n",
    "                df_sample = df.sample(num_mut)\n",
    "                num_mut_pts_i = df_sample[0].values\n",
    "                num_mut_pts_j = df_sample[1].values                \n",
    "                groups = group_indices_by_variance(num_mut_pts_i, num_mut_pts_j, I, I_dist_samples_array)               \n",
    "                with Pool() as p:\n",
    "                    mutated_parts = p.map(lambda group: mutator_group(group, I, I_dist_samples_array), groups)\n",
    "\n",
    "                # Combine mutated parts\n",
    "                I_prime = np.mean(mutated_parts, axis=0)\n",
    "                #I_prime = np.clip(np.mean(mutated_parts, axis=0), 0, 255).astype(np.uint8)\n",
    "                I_prime[I_prime < 0] = 0\n",
    "                I_prime[I_prime > 255] = 255\n",
    "                I_prime = I_prime*255\n",
    "                img = img_name.split('put/')[1].split('.jpg')[0] + '.png'\n",
    "                print(img)\n",
    "                plt.imsave(os.path.join(sav_path, img), I_prime)"
   ]
  },
  {
   "cell_type": "code",
   "execution_count": null,
   "metadata": {
    "scrolled": true
   },
   "outputs": [],
   "source": [
    "# Preprocessing step and main invocation\n",
    "train_sample_lst = []\n",
    "with open('input_images_list.txt') as f: \n",
    "    lines = f.readlines()\n",
    "    for line in lines:\n",
    "        train_sample_lst.append(line.strip()) \n",
    "        \n",
    "start = 0 # index of image on input_images_list.txt to start on.\n",
    "step = 1110 #index of image on input_images_list.txt to end on for a corruption type.\n",
    "dist_samples = 100 # Number of distorted samples to use for distortion estimation\n",
    "tau = 0.75 # Number of pixels to distort\n",
    "\n",
    "# Run main part of code\n",
    "main(train_sample_lst,start,step,dist_samples,tau)"
   ]
  },
  {
   "cell_type": "code",
   "execution_count": null,
   "metadata": {},
   "outputs": [],
   "source": []
  }
 ],
 "metadata": {
  "kernelspec": {
   "display_name": "Python 3",
   "language": "python",
   "name": "python3"
  },
  "language_info": {
   "codemirror_mode": {
    "name": "ipython",
    "version": 3
   },
   "file_extension": ".py",
   "mimetype": "text/x-python",
   "name": "python",
   "nbconvert_exporter": "python",
   "pygments_lexer": "ipython3",
   "version": "3.10.6"
  }
 },
 "nbformat": 4,
 "nbformat_minor": 2
}
